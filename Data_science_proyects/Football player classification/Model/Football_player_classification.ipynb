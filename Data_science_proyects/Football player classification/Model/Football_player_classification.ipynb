{
 "cells": [
  {
   "cell_type": "code",
   "execution_count": null,
   "id": "7013cf65-da53-4c3e-908a-cffbaabad176",
   "metadata": {},
   "outputs": [],
   "source": [
    "!pip install --force-reinstall matplotlib"
   ]
  },
  {
   "cell_type": "code",
   "execution_count": 5,
   "id": "a8231087-f2fc-4fc2-b345-daed10c02d62",
   "metadata": {},
   "outputs": [
    {
     "ename": "ModuleNotFoundError",
     "evalue": "No module named 'matplotlib.artist'",
     "output_type": "error",
     "traceback": [
      "\u001b[1;31m---------------------------------------------------------------------------\u001b[0m",
      "\u001b[1;31mModuleNotFoundError\u001b[0m                       Traceback (most recent call last)",
      "Cell \u001b[1;32mIn[5], line 4\u001b[0m\n\u001b[0;32m      2\u001b[0m \u001b[38;5;28;01mimport\u001b[39;00m \u001b[38;5;21;01mcv2\u001b[39;00m\n\u001b[0;32m      3\u001b[0m \u001b[38;5;28;01mimport\u001b[39;00m \u001b[38;5;21;01mmatplotlib\u001b[39;00m\n\u001b[1;32m----> 4\u001b[0m \u001b[38;5;28;01mfrom\u001b[39;00m \u001b[38;5;21;01mmatplotlib\u001b[39;00m \u001b[38;5;28;01mimport\u001b[39;00m pyplot \u001b[38;5;28;01mas\u001b[39;00m plt\n\u001b[0;32m      5\u001b[0m \u001b[38;5;28;01mimport\u001b[39;00m \u001b[38;5;21;01mseaborn\u001b[39;00m \u001b[38;5;28;01mas\u001b[39;00m \u001b[38;5;21;01msns\u001b[39;00m\n\u001b[0;32m      6\u001b[0m get_ipython()\u001b[38;5;241m.\u001b[39mrun_line_magic(\u001b[38;5;124m'\u001b[39m\u001b[38;5;124mmatplotlib\u001b[39m\u001b[38;5;124m'\u001b[39m, \u001b[38;5;124m'\u001b[39m\u001b[38;5;124minline\u001b[39m\u001b[38;5;124m'\u001b[39m)\n",
      "File \u001b[1;32m~\\anaconda3\\Lib\\site-packages\\matplotlib\\pyplot.py:56\u001b[0m\n\u001b[0;32m     54\u001b[0m \u001b[38;5;28;01mfrom\u001b[39;00m \u001b[38;5;21;01mcycler\u001b[39;00m \u001b[38;5;28;01mimport\u001b[39;00m cycler\n\u001b[0;32m     55\u001b[0m \u001b[38;5;28;01mimport\u001b[39;00m \u001b[38;5;21;01mmatplotlib\u001b[39;00m\n\u001b[1;32m---> 56\u001b[0m \u001b[38;5;28;01mimport\u001b[39;00m \u001b[38;5;21;01mmatplotlib\u001b[39;00m\u001b[38;5;21;01m.\u001b[39;00m\u001b[38;5;21;01mcolorbar\u001b[39;00m\n\u001b[0;32m     57\u001b[0m \u001b[38;5;28;01mimport\u001b[39;00m \u001b[38;5;21;01mmatplotlib\u001b[39;00m\u001b[38;5;21;01m.\u001b[39;00m\u001b[38;5;21;01mimage\u001b[39;00m\n\u001b[0;32m     58\u001b[0m \u001b[38;5;28;01mfrom\u001b[39;00m \u001b[38;5;21;01mmatplotlib\u001b[39;00m \u001b[38;5;28;01mimport\u001b[39;00m _api\n",
      "File \u001b[1;32m~\\anaconda3\\Lib\\site-packages\\matplotlib\\colorbar.py:19\u001b[0m\n\u001b[0;32m     16\u001b[0m \u001b[38;5;28;01mimport\u001b[39;00m \u001b[38;5;21;01mnumpy\u001b[39;00m \u001b[38;5;28;01mas\u001b[39;00m \u001b[38;5;21;01mnp\u001b[39;00m\n\u001b[0;32m     18\u001b[0m \u001b[38;5;28;01mimport\u001b[39;00m \u001b[38;5;21;01mmatplotlib\u001b[39;00m \u001b[38;5;28;01mas\u001b[39;00m \u001b[38;5;21;01mmpl\u001b[39;00m\n\u001b[1;32m---> 19\u001b[0m \u001b[38;5;28;01mfrom\u001b[39;00m \u001b[38;5;21;01mmatplotlib\u001b[39;00m \u001b[38;5;28;01mimport\u001b[39;00m _api, cbook, collections, cm, colors, contour, ticker\n\u001b[0;32m     20\u001b[0m \u001b[38;5;28;01mimport\u001b[39;00m \u001b[38;5;21;01mmatplotlib\u001b[39;00m\u001b[38;5;21;01m.\u001b[39;00m\u001b[38;5;21;01martist\u001b[39;00m \u001b[38;5;28;01mas\u001b[39;00m \u001b[38;5;21;01mmartist\u001b[39;00m\n\u001b[0;32m     21\u001b[0m \u001b[38;5;28;01mimport\u001b[39;00m \u001b[38;5;21;01mmatplotlib\u001b[39;00m\u001b[38;5;21;01m.\u001b[39;00m\u001b[38;5;21;01mpatches\u001b[39;00m \u001b[38;5;28;01mas\u001b[39;00m \u001b[38;5;21;01mmpatches\u001b[39;00m\n",
      "File \u001b[1;32m~\\anaconda3\\Lib\\site-packages\\matplotlib\\collections.py:20\u001b[0m\n\u001b[0;32m     17\u001b[0m \u001b[38;5;28;01mimport\u001b[39;00m \u001b[38;5;21;01mnumpy\u001b[39;00m \u001b[38;5;28;01mas\u001b[39;00m \u001b[38;5;21;01mnp\u001b[39;00m\n\u001b[0;32m     19\u001b[0m \u001b[38;5;28;01mimport\u001b[39;00m \u001b[38;5;21;01mmatplotlib\u001b[39;00m \u001b[38;5;28;01mas\u001b[39;00m \u001b[38;5;21;01mmpl\u001b[39;00m\n\u001b[1;32m---> 20\u001b[0m \u001b[38;5;28;01mfrom\u001b[39;00m \u001b[38;5;21;01m.\u001b[39;00m \u001b[38;5;28;01mimport\u001b[39;00m (_api, _path, artist, cbook, cm, colors \u001b[38;5;28;01mas\u001b[39;00m mcolors, _docstring,\n\u001b[0;32m     21\u001b[0m                hatch \u001b[38;5;28;01mas\u001b[39;00m mhatch, lines \u001b[38;5;28;01mas\u001b[39;00m mlines, path \u001b[38;5;28;01mas\u001b[39;00m mpath, transforms)\n\u001b[0;32m     22\u001b[0m \u001b[38;5;28;01mfrom\u001b[39;00m \u001b[38;5;21;01m.\u001b[39;00m\u001b[38;5;21;01m_enums\u001b[39;00m \u001b[38;5;28;01mimport\u001b[39;00m JoinStyle, CapStyle\n\u001b[0;32m     25\u001b[0m \u001b[38;5;66;03m# \"color\" is excluded; it is a compound setter, and its docstring differs\u001b[39;00m\n\u001b[0;32m     26\u001b[0m \u001b[38;5;66;03m# in LineCollection.\u001b[39;00m\n",
      "File \u001b[1;32m~\\anaconda3\\Lib\\site-packages\\matplotlib\\lines.py:14\u001b[0m\n\u001b[0;32m     12\u001b[0m \u001b[38;5;28;01mimport\u001b[39;00m \u001b[38;5;21;01mmatplotlib\u001b[39;00m \u001b[38;5;28;01mas\u001b[39;00m \u001b[38;5;21;01mmpl\u001b[39;00m\n\u001b[0;32m     13\u001b[0m \u001b[38;5;28;01mfrom\u001b[39;00m \u001b[38;5;21;01m.\u001b[39;00m \u001b[38;5;28;01mimport\u001b[39;00m _api, cbook, colors \u001b[38;5;28;01mas\u001b[39;00m mcolors, _docstring\n\u001b[1;32m---> 14\u001b[0m \u001b[38;5;28;01mfrom\u001b[39;00m \u001b[38;5;21;01m.\u001b[39;00m\u001b[38;5;21;01martist\u001b[39;00m \u001b[38;5;28;01mimport\u001b[39;00m Artist, allow_rasterization\n\u001b[0;32m     15\u001b[0m \u001b[38;5;28;01mfrom\u001b[39;00m \u001b[38;5;21;01m.\u001b[39;00m\u001b[38;5;21;01mcbook\u001b[39;00m \u001b[38;5;28;01mimport\u001b[39;00m (\n\u001b[0;32m     16\u001b[0m     _to_unmasked_float_array, ls_mapper, ls_mapper_r, STEP_LOOKUP_MAP)\n\u001b[0;32m     17\u001b[0m \u001b[38;5;28;01mfrom\u001b[39;00m \u001b[38;5;21;01m.\u001b[39;00m\u001b[38;5;21;01mmarkers\u001b[39;00m \u001b[38;5;28;01mimport\u001b[39;00m MarkerStyle\n",
      "\u001b[1;31mModuleNotFoundError\u001b[0m: No module named 'matplotlib.artist'"
     ]
    }
   ],
   "source": [
    "import numpy as np\n",
    "import cv2\n",
    "import matplotlib\n",
    "from matplotlib import pyplot as plt\n",
    "import seaborn as sns\n",
    "%matplotlib inline"
   ]
  },
  {
   "cell_type": "code",
   "execution_count": null,
   "id": "e7ae72fe-2ece-4cd1-b503-140c63d25d01",
   "metadata": {},
   "outputs": [],
   "source": [
    "img = cv2.imread(\"./TestImages/testmessi.jpeg\")\n",
    "img.shape"
   ]
  },
  {
   "cell_type": "code",
   "execution_count": null,
   "id": "f212cbde-fa98-4377-af2b-cfa56487d6a7",
   "metadata": {},
   "outputs": [],
   "source": [
    "plt.imshow(img)"
   ]
  },
  {
   "cell_type": "code",
   "execution_count": null,
   "id": "359ce0e3-ed84-4345-b389-27f53235c311",
   "metadata": {},
   "outputs": [],
   "source": [
    "gray = cv2.cvtColor(img, cv2.COLOR_BGR2GRAY)\n",
    "gray.shape"
   ]
  },
  {
   "cell_type": "code",
   "execution_count": null,
   "id": "3c00978c-1c22-44f6-befa-df6e1a427b08",
   "metadata": {},
   "outputs": [],
   "source": [
    "gray"
   ]
  },
  {
   "cell_type": "code",
   "execution_count": null,
   "id": "c0b0addf-e336-4f4d-94f2-ceacd2c914be",
   "metadata": {},
   "outputs": [],
   "source": [
    "plt.imshow(gray, cmap='gray')"
   ]
  },
  {
   "cell_type": "code",
   "execution_count": null,
   "id": "a304b5c4-dadd-4607-a492-b3bf5965f32b",
   "metadata": {},
   "outputs": [],
   "source": [
    "face_cascade = cv2.CascadeClassifier('./opencv/haarcascades/haarcascade_frontalface_default.xml')\n",
    "eye_cascade = cv2.CascadeClassifier('./opencv/haarcascades/haarcascade_eye.xml')\n",
    "\n",
    "faces = face_cascade.detectMultiScale(gray, 1.3, 5)\n",
    "faces"
   ]
  },
  {
   "cell_type": "code",
   "execution_count": null,
   "id": "0e2d7188-f332-45a4-8754-c069df95d501",
   "metadata": {},
   "outputs": [],
   "source": [
    "(x,y,w,h) = faces[0]\n",
    "x,y,w,h"
   ]
  },
  {
   "cell_type": "code",
   "execution_count": null,
   "id": "0dcfb180-9fb2-4bde-9235-b65f2e6b897a",
   "metadata": {},
   "outputs": [],
   "source": [
    "face_img = cv2.rectangle(img,(x,y),(x+w,y+h),(255,0,0),2)\n",
    "plt.imshow(face_img)"
   ]
  },
  {
   "cell_type": "code",
   "execution_count": null,
   "id": "dbac9e8b-3f6a-4aae-adde-2b245e3e8311",
   "metadata": {},
   "outputs": [],
   "source": [
    "cv2.destroyAllWindows()\n",
    "for (x,y,w,h) in faces:\n",
    "    face_img = cv2.rectangle(img,(x,y),(x+w,y+h),(255,0,0),1)\n",
    "    roi_gray = gray[y:y+h, x:x+w]\n",
    "    roi_color = face_img[y:y+h, x:x+w]\n",
    "    eyes = eye_cascade.detectMultiScale(face_img,scaleFactor=1.1)\n",
    "    for (ex,ey,ew,eh) in eyes:\n",
    "        cv2.rectangle(face_img,(ex,ey),(ex+ew,ey+eh),(0,255,0),1)\n",
    "        \n",
    "\n",
    "plt.figure()\n",
    "plt.imshow(face_img, cmap='gray')\n",
    "plt.show()"
   ]
  },
  {
   "cell_type": "code",
   "execution_count": null,
   "id": "8bebbf42-8e06-48e5-83d2-2c3969f5564b",
   "metadata": {},
   "outputs": [],
   "source": [
    "%matplotlib inline\n",
    "plt.imshow(roi_color, cmap='gray')"
   ]
  },
  {
   "cell_type": "code",
   "execution_count": 2,
   "id": "82bf24fb-17db-4580-a3d5-ff14ec46faa3",
   "metadata": {},
   "outputs": [
    {
     "ename": "NameError",
     "evalue": "name 'roi_color' is not defined",
     "output_type": "error",
     "traceback": [
      "\u001b[1;31m---------------------------------------------------------------------------\u001b[0m",
      "\u001b[1;31mNameError\u001b[0m                                 Traceback (most recent call last)",
      "Cell \u001b[1;32mIn[2], line 1\u001b[0m\n\u001b[1;32m----> 1\u001b[0m cropped_img \u001b[38;5;241m=\u001b[39m np\u001b[38;5;241m.\u001b[39marray(roi_color)\n\u001b[0;32m      2\u001b[0m cropped_img\u001b[38;5;241m.\u001b[39mshape\n",
      "\u001b[1;31mNameError\u001b[0m: name 'roi_color' is not defined"
     ]
    }
   ],
   "source": [
    "cropped_img = np.array(roi_color)\n",
    "cropped_img.shape"
   ]
  },
  {
   "cell_type": "code",
   "execution_count": 3,
   "id": "b830c690-5cf8-4e4e-b587-d8453fc91b20",
   "metadata": {},
   "outputs": [],
   "source": [
    "import numpy as np\n",
    "import pywt\n",
    "import cv2    \n",
    "\n",
    "def w2d(img, mode='haar', level=1):\n",
    "    imArray = img\n",
    "    #Datatype conversions\n",
    "    #convert to grayscale\n",
    "    imArray = cv2.cvtColor( imArray,cv2.COLOR_RGB2GRAY )\n",
    "    #convert to float\n",
    "    imArray =  np.float32(imArray)   \n",
    "    imArray /= 255;\n",
    "    # compute coefficients \n",
    "    coeffs=pywt.wavedec2(imArray, mode, level=level)\n",
    "\n",
    "    #Process Coefficients\n",
    "    coeffs_H=list(coeffs)  \n",
    "    coeffs_H[0] *= 0;  \n",
    "\n",
    "    # reconstruction\n",
    "    imArray_H=pywt.waverec2(coeffs_H, mode);\n",
    "    imArray_H *= 255;\n",
    "    imArray_H =  np.uint8(imArray_H)\n",
    "\n",
    "    return imArray_H"
   ]
  },
  {
   "cell_type": "code",
   "execution_count": 4,
   "id": "280aeb5d-43e9-4477-8e35-64239ab39b0f",
   "metadata": {},
   "outputs": [
    {
     "ename": "NameError",
     "evalue": "name 'cropped_img' is not defined",
     "output_type": "error",
     "traceback": [
      "\u001b[1;31m---------------------------------------------------------------------------\u001b[0m",
      "\u001b[1;31mNameError\u001b[0m                                 Traceback (most recent call last)",
      "Cell \u001b[1;32mIn[4], line 1\u001b[0m\n\u001b[1;32m----> 1\u001b[0m im_har \u001b[38;5;241m=\u001b[39m w2d(cropped_img,\u001b[38;5;124m'\u001b[39m\u001b[38;5;124mdb1\u001b[39m\u001b[38;5;124m'\u001b[39m,\u001b[38;5;241m5\u001b[39m)\n\u001b[0;32m      2\u001b[0m plt\u001b[38;5;241m.\u001b[39mimshow(im_har, cmap\u001b[38;5;241m=\u001b[39m\u001b[38;5;124m'\u001b[39m\u001b[38;5;124mgray\u001b[39m\u001b[38;5;124m'\u001b[39m)\n",
      "\u001b[1;31mNameError\u001b[0m: name 'cropped_img' is not defined"
     ]
    }
   ],
   "source": [
    "im_har = w2d(cropped_img,'db1',5)\n",
    "plt.imshow(im_har, cmap='gray')"
   ]
  },
  {
   "cell_type": "code",
   "execution_count": 43,
   "id": "12b4bc94-da3f-465f-be34-0afc10611dd2",
   "metadata": {},
   "outputs": [],
   "source": [
    "def get_cropped_image_if_2_eyes(image_path):\n",
    "    img = cv2.imread(image_path)\n",
    "    gray = cv2.cvtColor(img, cv2.COLOR_BGR2GRAY)\n",
    "    faces = face_cascade.detectMultiScale(gray, 1.3, 5)\n",
    "    for (x,y,w,h) in faces:\n",
    "        roi_gray = gray[y:y+h, x:x+w]\n",
    "        roi_color = img[y:y+h, x:x+w]\n",
    "        eyes = eye_cascade.detectMultiScale(gray)\n",
    "        if len(eyes) >= 2:\n",
    "            return roi_color\n",
    "        else:\n",
    "            print('Both eyes not detected correctly')"
   ]
  },
  {
   "cell_type": "code",
   "execution_count": 44,
   "id": "e22e94d4-bf78-471e-8f31-f635deb2d3e2",
   "metadata": {},
   "outputs": [
    {
     "data": {
      "text/plain": [
       "<matplotlib.image.AxesImage at 0x24e334280d0>"
      ]
     },
     "execution_count": 44,
     "metadata": {},
     "output_type": "execute_result"
    },
    {
     "data": {
      "image/png": "[encoded data removed]",
      "text/plain": [
       "<Figure size 640x480 with 1 Axes>"
      ]
     },
     "metadata": {},
     "output_type": "display_data"
    }
   ],
   "source": [
    "original_img = cv2.imread(\"./TestImages/testmessi.jpeg\")\n",
    "cropped_image = get_cropped_image_if_2_eyes('./TestImages/testmessi.jpeg')\n",
    "plt.imshow(cropped_image)"
   ]
  },
  {
   "cell_type": "code",
   "execution_count": 45,
   "id": "efdb8dfb-fb50-4074-836a-f1704ff3d41b",
   "metadata": {},
   "outputs": [],
   "source": [
    "path_to_data = \"./data/\"\n",
    "path_to_cr_data = \"./data/cropped/\""
   ]
  },
  {
   "cell_type": "code",
   "execution_count": 46,
   "id": "7751f274-7d13-4790-a9d9-9dcb4e914c79",
   "metadata": {},
   "outputs": [],
   "source": [
    "import os\n",
    "img_dirs = []\n",
    "for entry in os.scandir(path_to_data):\n",
    "    if entry.is_dir():\n",
    "        img_dirs.append(entry.path)"
   ]
  },
  {
   "cell_type": "code",
   "execution_count": 47,
   "id": "bfd27e47-50dc-4606-b930-51af88e92af9",
   "metadata": {},
   "outputs": [],
   "source": [
    "import shutil\n",
    "if os.path.exists(path_to_cr_data):\n",
    "     shutil.rmtree(path_to_cr_data)\n",
    "os.mkdir(path_to_cr_data)"
   ]
  },
  {
   "cell_type": "code",
   "execution_count": 48,
   "id": "e90f4031-edb8-4419-97ca-215a6f1ebd57",
   "metadata": {},
   "outputs": [
    {
     "name": "stdout",
     "output_type": "stream",
     "text": [
      "Cristiano Ronaldo\n",
      "Generating cropped images in folder:  ./data/cropped/Cristiano Ronaldo\n",
      "Both eyes not detected correctly\n",
      "Both eyes not detected correctly\n",
      "Both eyes not detected correctly\n",
      "Both eyes not detected correctly\n",
      "Both eyes not detected correctly\n",
      "Both eyes not detected correctly\n",
      "Both eyes not detected correctly\n",
      "Both eyes not detected correctly\n",
      "Both eyes not detected correctly\n",
      "Both eyes not detected correctly\n",
      "Both eyes not detected correctly\n",
      "Both eyes not detected correctly\n",
      "Both eyes not detected correctly\n",
      "Both eyes not detected correctly\n",
      "Both eyes not detected correctly\n",
      "Both eyes not detected correctly\n",
      "Both eyes not detected correctly\n",
      "Both eyes not detected correctly\n",
      "Both eyes not detected correctly\n",
      "Erling Haaland\n",
      "Generating cropped images in folder:  ./data/cropped/Erling Haaland\n",
      "Both eyes not detected correctly\n",
      "Both eyes not detected correctly\n",
      "Both eyes not detected correctly\n",
      "Both eyes not detected correctly\n",
      "Both eyes not detected correctly\n",
      "Both eyes not detected correctly\n",
      "Both eyes not detected correctly\n",
      "Both eyes not detected correctly\n",
      "Both eyes not detected correctly\n",
      "Both eyes not detected correctly\n",
      "Both eyes not detected correctly\n",
      "Both eyes not detected correctly\n",
      "Both eyes not detected correctly\n",
      "Both eyes not detected correctly\n",
      "Both eyes not detected correctly\n",
      "Both eyes not detected correctly\n",
      "Both eyes not detected correctly\n",
      "Both eyes not detected correctly\n",
      "Both eyes not detected correctly\n",
      "Both eyes not detected correctly\n",
      "Both eyes not detected correctly\n",
      "Both eyes not detected correctly\n",
      "Both eyes not detected correctly\n",
      "Both eyes not detected correctly\n",
      "Jude Bellingham\n",
      "Generating cropped images in folder:  ./data/cropped/Jude Bellingham\n",
      "Both eyes not detected correctly\n",
      "Both eyes not detected correctly\n",
      "Both eyes not detected correctly\n",
      "Both eyes not detected correctly\n",
      "Both eyes not detected correctly\n",
      "Both eyes not detected correctly\n",
      "Both eyes not detected correctly\n",
      "Both eyes not detected correctly\n",
      "Both eyes not detected correctly\n",
      "Both eyes not detected correctly\n",
      "Both eyes not detected correctly\n",
      "Both eyes not detected correctly\n",
      "Both eyes not detected correctly\n",
      "Both eyes not detected correctly\n",
      "Both eyes not detected correctly\n",
      "Both eyes not detected correctly\n",
      "Both eyes not detected correctly\n",
      "Both eyes not detected correctly\n",
      "Both eyes not detected correctly\n",
      "Both eyes not detected correctly\n",
      "Both eyes not detected correctly\n",
      "Kylian Mbappe\n",
      "Both eyes not detected correctly\n",
      "Generating cropped images in folder:  ./data/cropped/Kylian Mbappe\n",
      "Both eyes not detected correctly\n",
      "Both eyes not detected correctly\n",
      "Both eyes not detected correctly\n",
      "Both eyes not detected correctly\n",
      "Both eyes not detected correctly\n",
      "Both eyes not detected correctly\n",
      "Both eyes not detected correctly\n",
      "Both eyes not detected correctly\n",
      "Leonel Messi\n",
      "Generating cropped images in folder:  ./data/cropped/Leonel Messi\n",
      "Both eyes not detected correctly\n",
      "Both eyes not detected correctly\n",
      "Both eyes not detected correctly\n",
      "Both eyes not detected correctly\n",
      "Both eyes not detected correctly\n",
      "Both eyes not detected correctly\n",
      "Both eyes not detected correctly\n",
      "Both eyes not detected correctly\n",
      "Both eyes not detected correctly\n",
      "Both eyes not detected correctly\n",
      "Both eyes not detected correctly\n",
      "Both eyes not detected correctly\n",
      "Both eyes not detected correctly\n",
      "Both eyes not detected correctly\n",
      "Both eyes not detected correctly\n",
      "Both eyes not detected correctly\n",
      "Both eyes not detected correctly\n",
      "Both eyes not detected correctly\n",
      "Both eyes not detected correctly\n",
      "Both eyes not detected correctly\n",
      "Both eyes not detected correctly\n"
     ]
    }
   ],
   "source": [
    "cropped_image_dirs = []\n",
    "celebrity_file_names_dict = {}\n",
    "\n",
    "for img_dir in img_dirs:\n",
    "    count = 1\n",
    "    celebrity_name = img_dir.split('/')[-1]\n",
    "    print(celebrity_name)\n",
    "    \n",
    "    celebrity_file_names_dict[celebrity_name] = []\n",
    "    \n",
    "    for entry in os.scandir(img_dir):\n",
    "        roi_color = get_cropped_image_if_2_eyes(entry.path)\n",
    "        if roi_color is not None:\n",
    "            cropped_folder = path_to_cr_data + celebrity_name\n",
    "            if not os.path.exists(cropped_folder):\n",
    "                os.makedirs(cropped_folder)\n",
    "                cropped_image_dirs.append(cropped_folder)\n",
    "                print(\"Generating cropped images in folder: \",cropped_folder)\n",
    "                \n",
    "            cropped_file_name = celebrity_name + str(count) + \".png\"\n",
    "            cropped_file_path = cropped_folder + \"/\" + cropped_file_name \n",
    "            \n",
    "            cv2.imwrite(cropped_file_path, roi_color)\n",
    "            celebrity_file_names_dict[celebrity_name].append(cropped_file_path)\n",
    "            count += 1    "
   ]
  },
  {
   "cell_type": "code",
   "execution_count": 49,
   "id": "f005d2ab-bea1-4b0c-8848-1520e8f7a15e",
   "metadata": {},
   "outputs": [
    {
     "data": {
      "text/plain": [
       "{'Cristiano Ronaldo': ['./data/cropped/Cristiano Ronaldo\\\\Cristiano Ronaldo1.png',\n",
       "  './data/cropped/Cristiano Ronaldo\\\\Cristiano Ronaldo10.png',\n",
       "  './data/cropped/Cristiano Ronaldo\\\\Cristiano Ronaldo11.png',\n",
       "  './data/cropped/Cristiano Ronaldo\\\\Cristiano Ronaldo12.png',\n",
       "  './data/cropped/Cristiano Ronaldo\\\\Cristiano Ronaldo13.png',\n",
       "  './data/cropped/Cristiano Ronaldo\\\\Cristiano Ronaldo14.png',\n",
       "  './data/cropped/Cristiano Ronaldo\\\\Cristiano Ronaldo15.png',\n",
       "  './data/cropped/Cristiano Ronaldo\\\\Cristiano Ronaldo16.png',\n",
       "  './data/cropped/Cristiano Ronaldo\\\\Cristiano Ronaldo17.png',\n",
       "  './data/cropped/Cristiano Ronaldo\\\\Cristiano Ronaldo18.png',\n",
       "  './data/cropped/Cristiano Ronaldo\\\\Cristiano Ronaldo19.png',\n",
       "  './data/cropped/Cristiano Ronaldo\\\\Cristiano Ronaldo2.png',\n",
       "  './data/cropped/Cristiano Ronaldo\\\\Cristiano Ronaldo20.png',\n",
       "  './data/cropped/Cristiano Ronaldo\\\\Cristiano Ronaldo21.png',\n",
       "  './data/cropped/Cristiano Ronaldo\\\\Cristiano Ronaldo22.png',\n",
       "  './data/cropped/Cristiano Ronaldo\\\\Cristiano Ronaldo23.png',\n",
       "  './data/cropped/Cristiano Ronaldo\\\\Cristiano Ronaldo24.png',\n",
       "  './data/cropped/Cristiano Ronaldo\\\\Cristiano Ronaldo25.png',\n",
       "  './data/cropped/Cristiano Ronaldo\\\\Cristiano Ronaldo26.png',\n",
       "  './data/cropped/Cristiano Ronaldo\\\\Cristiano Ronaldo27.png',\n",
       "  './data/cropped/Cristiano Ronaldo\\\\Cristiano Ronaldo28.png',\n",
       "  './data/cropped/Cristiano Ronaldo\\\\Cristiano Ronaldo29.png',\n",
       "  './data/cropped/Cristiano Ronaldo\\\\Cristiano Ronaldo3.png',\n",
       "  './data/cropped/Cristiano Ronaldo\\\\Cristiano Ronaldo30.png',\n",
       "  './data/cropped/Cristiano Ronaldo\\\\Cristiano Ronaldo31.png',\n",
       "  './data/cropped/Cristiano Ronaldo\\\\Cristiano Ronaldo32.png',\n",
       "  './data/cropped/Cristiano Ronaldo\\\\Cristiano Ronaldo33.png',\n",
       "  './data/cropped/Cristiano Ronaldo\\\\Cristiano Ronaldo34.png',\n",
       "  './data/cropped/Cristiano Ronaldo\\\\Cristiano Ronaldo35.png',\n",
       "  './data/cropped/Cristiano Ronaldo\\\\Cristiano Ronaldo36.png',\n",
       "  './data/cropped/Cristiano Ronaldo\\\\Cristiano Ronaldo37.png',\n",
       "  './data/cropped/Cristiano Ronaldo\\\\Cristiano Ronaldo4.png',\n",
       "  './data/cropped/Cristiano Ronaldo\\\\Cristiano Ronaldo5.png',\n",
       "  './data/cropped/Cristiano Ronaldo\\\\Cristiano Ronaldo6.png',\n",
       "  './data/cropped/Cristiano Ronaldo\\\\Cristiano Ronaldo7.png',\n",
       "  './data/cropped/Cristiano Ronaldo\\\\Cristiano Ronaldo8.png',\n",
       "  './data/cropped/Cristiano Ronaldo\\\\Cristiano Ronaldo9.png'],\n",
       " 'Erling Haaland': ['./data/cropped/Erling Haaland\\\\Erling Haaland1.png',\n",
       "  './data/cropped/Erling Haaland\\\\Erling Haaland10.png',\n",
       "  './data/cropped/Erling Haaland\\\\Erling Haaland11.png',\n",
       "  './data/cropped/Erling Haaland\\\\Erling Haaland12.png',\n",
       "  './data/cropped/Erling Haaland\\\\Erling Haaland13.png',\n",
       "  './data/cropped/Erling Haaland\\\\Erling Haaland14.png',\n",
       "  './data/cropped/Erling Haaland\\\\Erling Haaland15.png',\n",
       "  './data/cropped/Erling Haaland\\\\Erling Haaland16.png',\n",
       "  './data/cropped/Erling Haaland\\\\Erling Haaland17.png',\n",
       "  './data/cropped/Erling Haaland\\\\Erling Haaland18.png',\n",
       "  './data/cropped/Erling Haaland\\\\Erling Haaland19.png',\n",
       "  './data/cropped/Erling Haaland\\\\Erling Haaland2.png',\n",
       "  './data/cropped/Erling Haaland\\\\Erling Haaland3.png',\n",
       "  './data/cropped/Erling Haaland\\\\Erling Haaland4.png',\n",
       "  './data/cropped/Erling Haaland\\\\Erling Haaland5.png',\n",
       "  './data/cropped/Erling Haaland\\\\Erling Haaland6.png',\n",
       "  './data/cropped/Erling Haaland\\\\Erling Haaland7.png',\n",
       "  './data/cropped/Erling Haaland\\\\Erling Haaland8.png',\n",
       "  './data/cropped/Erling Haaland\\\\Erling Haaland9.png'],\n",
       " 'Jude Bellingham': ['./data/cropped/Jude Bellingham\\\\Jude Bellingham1.png',\n",
       "  './data/cropped/Jude Bellingham\\\\Jude Bellingham10.png',\n",
       "  './data/cropped/Jude Bellingham\\\\Jude Bellingham11.png',\n",
       "  './data/cropped/Jude Bellingham\\\\Jude Bellingham12.png',\n",
       "  './data/cropped/Jude Bellingham\\\\Jude Bellingham13.png',\n",
       "  './data/cropped/Jude Bellingham\\\\Jude Bellingham14.png',\n",
       "  './data/cropped/Jude Bellingham\\\\Jude Bellingham15.png',\n",
       "  './data/cropped/Jude Bellingham\\\\Jude Bellingham16.png',\n",
       "  './data/cropped/Jude Bellingham\\\\Jude Bellingham17.png',\n",
       "  './data/cropped/Jude Bellingham\\\\Jude Bellingham18.png',\n",
       "  './data/cropped/Jude Bellingham\\\\Jude Bellingham19.png',\n",
       "  './data/cropped/Jude Bellingham\\\\Jude Bellingham2.png',\n",
       "  './data/cropped/Jude Bellingham\\\\Jude Bellingham20.png',\n",
       "  './data/cropped/Jude Bellingham\\\\Jude Bellingham21.png',\n",
       "  './data/cropped/Jude Bellingham\\\\Jude Bellingham22.png',\n",
       "  './data/cropped/Jude Bellingham\\\\Jude Bellingham3.png',\n",
       "  './data/cropped/Jude Bellingham\\\\Jude Bellingham4.png',\n",
       "  './data/cropped/Jude Bellingham\\\\Jude Bellingham5.png',\n",
       "  './data/cropped/Jude Bellingham\\\\Jude Bellingham6.png',\n",
       "  './data/cropped/Jude Bellingham\\\\Jude Bellingham7.png',\n",
       "  './data/cropped/Jude Bellingham\\\\Jude Bellingham8.png',\n",
       "  './data/cropped/Jude Bellingham\\\\Jude Bellingham9.png'],\n",
       " 'Kylian Mbappe': ['./data/cropped/Kylian Mbappe\\\\Kylian Mbappe1.png',\n",
       "  './data/cropped/Kylian Mbappe\\\\Kylian Mbappe10.png',\n",
       "  './data/cropped/Kylian Mbappe\\\\Kylian Mbappe11.png',\n",
       "  './data/cropped/Kylian Mbappe\\\\Kylian Mbappe12.png',\n",
       "  './data/cropped/Kylian Mbappe\\\\Kylian Mbappe13.png',\n",
       "  './data/cropped/Kylian Mbappe\\\\Kylian Mbappe14.png',\n",
       "  './data/cropped/Kylian Mbappe\\\\Kylian Mbappe15.png',\n",
       "  './data/cropped/Kylian Mbappe\\\\Kylian Mbappe16.png',\n",
       "  './data/cropped/Kylian Mbappe\\\\Kylian Mbappe17.png',\n",
       "  './data/cropped/Kylian Mbappe\\\\Kylian Mbappe18.png',\n",
       "  './data/cropped/Kylian Mbappe\\\\Kylian Mbappe19.png',\n",
       "  './data/cropped/Kylian Mbappe\\\\Kylian Mbappe2.png',\n",
       "  './data/cropped/Kylian Mbappe\\\\Kylian Mbappe20.png',\n",
       "  './data/cropped/Kylian Mbappe\\\\Kylian Mbappe21.png',\n",
       "  './data/cropped/Kylian Mbappe\\\\Kylian Mbappe22.png',\n",
       "  './data/cropped/Kylian Mbappe\\\\Kylian Mbappe23.png',\n",
       "  './data/cropped/Kylian Mbappe\\\\Kylian Mbappe24.png',\n",
       "  './data/cropped/Kylian Mbappe\\\\Kylian Mbappe25.png',\n",
       "  './data/cropped/Kylian Mbappe\\\\Kylian Mbappe26.png',\n",
       "  './data/cropped/Kylian Mbappe\\\\Kylian Mbappe27.png',\n",
       "  './data/cropped/Kylian Mbappe\\\\Kylian Mbappe28.png',\n",
       "  './data/cropped/Kylian Mbappe\\\\Kylian Mbappe29.png',\n",
       "  './data/cropped/Kylian Mbappe\\\\Kylian Mbappe3.png',\n",
       "  './data/cropped/Kylian Mbappe\\\\Kylian Mbappe30.png',\n",
       "  './data/cropped/Kylian Mbappe\\\\Kylian Mbappe31.png',\n",
       "  './data/cropped/Kylian Mbappe\\\\Kylian Mbappe32.png',\n",
       "  './data/cropped/Kylian Mbappe\\\\Kylian Mbappe33.png',\n",
       "  './data/cropped/Kylian Mbappe\\\\Kylian Mbappe34.png',\n",
       "  './data/cropped/Kylian Mbappe\\\\Kylian Mbappe35.png',\n",
       "  './data/cropped/Kylian Mbappe\\\\Kylian Mbappe4.png',\n",
       "  './data/cropped/Kylian Mbappe\\\\Kylian Mbappe5.png',\n",
       "  './data/cropped/Kylian Mbappe\\\\Kylian Mbappe6.png',\n",
       "  './data/cropped/Kylian Mbappe\\\\Kylian Mbappe7.png',\n",
       "  './data/cropped/Kylian Mbappe\\\\Kylian Mbappe8.png',\n",
       "  './data/cropped/Kylian Mbappe\\\\Kylian Mbappe9.png'],\n",
       " 'Leonel Messi': ['./data/cropped/Leonel Messi\\\\Leonel Messi1.png',\n",
       "  './data/cropped/Leonel Messi\\\\Leonel Messi10.png',\n",
       "  './data/cropped/Leonel Messi\\\\Leonel Messi11.png',\n",
       "  './data/cropped/Leonel Messi\\\\Leonel Messi12.png',\n",
       "  './data/cropped/Leonel Messi\\\\Leonel Messi13.png',\n",
       "  './data/cropped/Leonel Messi\\\\Leonel Messi14.png',\n",
       "  './data/cropped/Leonel Messi\\\\Leonel Messi15.png',\n",
       "  './data/cropped/Leonel Messi\\\\Leonel Messi16.png',\n",
       "  './data/cropped/Leonel Messi\\\\Leonel Messi17.png',\n",
       "  './data/cropped/Leonel Messi\\\\Leonel Messi18.png',\n",
       "  './data/cropped/Leonel Messi\\\\Leonel Messi19.png',\n",
       "  './data/cropped/Leonel Messi\\\\Leonel Messi2.png',\n",
       "  './data/cropped/Leonel Messi\\\\Leonel Messi20.png',\n",
       "  './data/cropped/Leonel Messi\\\\Leonel Messi21.png',\n",
       "  './data/cropped/Leonel Messi\\\\Leonel Messi22.png',\n",
       "  './data/cropped/Leonel Messi\\\\Leonel Messi23.png',\n",
       "  './data/cropped/Leonel Messi\\\\Leonel Messi24.png',\n",
       "  './data/cropped/Leonel Messi\\\\Leonel Messi25.png',\n",
       "  './data/cropped/Leonel Messi\\\\Leonel Messi3.png',\n",
       "  './data/cropped/Leonel Messi\\\\Leonel Messi4.png',\n",
       "  './data/cropped/Leonel Messi\\\\Leonel Messi5.png',\n",
       "  './data/cropped/Leonel Messi\\\\Leonel Messi6.png',\n",
       "  './data/cropped/Leonel Messi\\\\Leonel Messi7.png',\n",
       "  './data/cropped/Leonel Messi\\\\Leonel Messi8.png',\n",
       "  './data/cropped/Leonel Messi\\\\Leonel Messi9.png']}"
      ]
     },
     "execution_count": 49,
     "metadata": {},
     "output_type": "execute_result"
    }
   ],
   "source": [
    "celebrity_file_names_dict = {}\n",
    "for img_dir in cropped_image_dirs:\n",
    "    celebrity_name = img_dir.split('/')[-1]\n",
    "    file_list = []\n",
    "    for entry in os.scandir(img_dir):\n",
    "        file_list.append(entry.path)\n",
    "    celebrity_file_names_dict[celebrity_name] = file_list\n",
    "celebrity_file_names_dict"
   ]
  },
  {
   "cell_type": "code",
   "execution_count": 50,
   "id": "97f5ccf2-dc5c-4b6e-9e68-2a9b40522d44",
   "metadata": {},
   "outputs": [
    {
     "data": {
      "text/plain": [
       "{'Cristiano Ronaldo': 0,\n",
       " 'Erling Haaland': 1,\n",
       " 'Jude Bellingham': 2,\n",
       " 'Kylian Mbappe': 3,\n",
       " 'Leonel Messi': 4}"
      ]
     },
     "execution_count": 50,
     "metadata": {},
     "output_type": "execute_result"
    }
   ],
   "source": [
    "class_dict = {}\n",
    "count = 0\n",
    "for celebrity_name in celebrity_file_names_dict.keys():\n",
    "    class_dict[celebrity_name] = count\n",
    "    count = count + 1\n",
    "class_dict"
   ]
  },
  {
   "cell_type": "code",
   "execution_count": 51,
   "id": "cbdbb3ee-a79b-4ca1-b75d-501e07353a8b",
   "metadata": {},
   "outputs": [],
   "source": [
    "X, y = [], []\n",
    "for celebrity_name, training_files in celebrity_file_names_dict.items():\n",
    "    for training_image in training_files:\n",
    "        img = cv2.imread(training_image)\n",
    "        scalled_raw_img = cv2.resize(img, (32, 32))\n",
    "        img_har = w2d(img,'db1',5)\n",
    "        scalled_img_har = cv2.resize(img_har, (32, 32))\n",
    "        combined_img = np.vstack((scalled_raw_img.reshape(32*32*3,1),scalled_img_har.reshape(32*32,1)))\n",
    "        X.append(combined_img)\n",
    "        y.append(class_dict[celebrity_name])     "
   ]
  },
  {
   "cell_type": "code",
   "execution_count": 52,
   "id": "eaad581a-1aa4-43a1-b796-a38a534a000f",
   "metadata": {},
   "outputs": [
    {
     "data": {
      "text/plain": [
       "(138, 4096)"
      ]
     },
     "execution_count": 52,
     "metadata": {},
     "output_type": "execute_result"
    }
   ],
   "source": [
    "X = np.array(X).reshape(len(X),4096).astype(float)\n",
    "X.shape"
   ]
  },
  {
   "cell_type": "code",
   "execution_count": 53,
   "id": "9bc4a03d-9046-4093-a611-3ebc36845007",
   "metadata": {},
   "outputs": [],
   "source": [
    "from sklearn.svm import SVC\n",
    "from sklearn.preprocessing import StandardScaler\n",
    "from sklearn.model_selection import train_test_split\n",
    "from sklearn.pipeline import Pipeline\n",
    "from sklearn.metrics import classification_report"
   ]
  },
  {
   "cell_type": "code",
   "execution_count": 54,
   "id": "b7ddc4d4-daa7-4599-8a3c-79d81044777f",
   "metadata": {},
   "outputs": [
    {
     "data": {
      "text/plain": [
       "0.7428571428571429"
      ]
     },
     "execution_count": 54,
     "metadata": {},
     "output_type": "execute_result"
    }
   ],
   "source": [
    "X_train, X_test, y_train, y_test = train_test_split(X, y, random_state=0)\n",
    "\n",
    "pipe = Pipeline([('scaler', StandardScaler()), ('svc', SVC(kernel = 'rbf', C = 10))])\n",
    "pipe.fit(X_train, y_train)\n",
    "pipe.score(X_test, y_test)"
   ]
  },
  {
   "cell_type": "code",
   "execution_count": 55,
   "id": "20f656c5-5805-4ca2-bd4d-9fd64e6fcdc6",
   "metadata": {},
   "outputs": [
    {
     "name": "stdout",
     "output_type": "stream",
     "text": [
      "              precision    recall  f1-score   support\n",
      "\n",
      "           0       0.90      0.82      0.86        11\n",
      "           1       0.80      0.57      0.67         7\n",
      "           2       1.00      0.40      0.57         5\n",
      "           3       0.58      0.88      0.70         8\n",
      "           4       0.67      1.00      0.80         4\n",
      "\n",
      "    accuracy                           0.74        35\n",
      "   macro avg       0.79      0.73      0.72        35\n",
      "weighted avg       0.80      0.74      0.74        35\n",
      "\n"
     ]
    }
   ],
   "source": [
    "print(classification_report(y_test, pipe.predict(X_test)))"
   ]
  },
  {
   "cell_type": "code",
   "execution_count": 56,
   "id": "05a8e044-f635-414b-9a5a-9858caf1499f",
   "metadata": {},
   "outputs": [],
   "source": [
    "from sklearn import svm\n",
    "from sklearn.ensemble import RandomForestClassifier\n",
    "from sklearn.linear_model import LogisticRegression\n",
    "from sklearn.pipeline import make_pipeline\n",
    "from sklearn.model_selection import GridSearchCV"
   ]
  },
  {
   "cell_type": "code",
   "execution_count": 57,
   "id": "b600e6a8-75a6-453a-a038-059c8fabfa36",
   "metadata": {},
   "outputs": [],
   "source": [
    "model_params = {\n",
    "    'svm': {\n",
    "        'model': svm.SVC(gamma='auto',probability=True),\n",
    "        'params' : {\n",
    "            'svc__C': [1,10,100,1000],\n",
    "            'svc__kernel': ['rbf','linear']\n",
    "        }  \n",
    "    },\n",
    "    'random_forest': {\n",
    "        'model': RandomForestClassifier(),\n",
    "        'params' : {\n",
    "            'randomforestclassifier__n_estimators': [1,5,10]\n",
    "        }\n",
    "    },\n",
    "    'logistic_regression' : {\n",
    "        'model': LogisticRegression(solver='liblinear',multi_class='auto'),\n",
    "        'params': {\n",
    "            'logisticregression__C': [1,5,10]\n",
    "        }\n",
    "    }\n",
    "}"
   ]
  },
  {
   "cell_type": "code",
   "execution_count": 58,
   "id": "a1d9723c-f93f-4cfb-8a49-ddd97790dc59",
   "metadata": {},
   "outputs": [
    {
     "name": "stderr",
     "output_type": "stream",
     "text": [
      "C:\\Users\\juan esteban\\anaconda3\\Lib\\site-packages\\sklearn\\linear_model\\_logistic.py:1247: FutureWarning: 'multi_class' was deprecated in version 1.5 and will be removed in 1.7. From then on, it will always use 'multinomial'. Leave it to its default value to avoid this warning.\n",
      "  warnings.warn(\n",
      "C:\\Users\\juan esteban\\anaconda3\\Lib\\site-packages\\sklearn\\linear_model\\_logistic.py:1247: FutureWarning: 'multi_class' was deprecated in version 1.5 and will be removed in 1.7. From then on, it will always use 'multinomial'. Leave it to its default value to avoid this warning.\n",
      "  warnings.warn(\n",
      "C:\\Users\\juan esteban\\anaconda3\\Lib\\site-packages\\sklearn\\linear_model\\_logistic.py:1247: FutureWarning: 'multi_class' was deprecated in version 1.5 and will be removed in 1.7. From then on, it will always use 'multinomial'. Leave it to its default value to avoid this warning.\n",
      "  warnings.warn(\n",
      "C:\\Users\\juan esteban\\anaconda3\\Lib\\site-packages\\sklearn\\linear_model\\_logistic.py:1247: FutureWarning: 'multi_class' was deprecated in version 1.5 and will be removed in 1.7. From then on, it will always use 'multinomial'. Leave it to its default value to avoid this warning.\n",
      "  warnings.warn(\n",
      "C:\\Users\\juan esteban\\anaconda3\\Lib\\site-packages\\sklearn\\linear_model\\_logistic.py:1247: FutureWarning: 'multi_class' was deprecated in version 1.5 and will be removed in 1.7. From then on, it will always use 'multinomial'. Leave it to its default value to avoid this warning.\n",
      "  warnings.warn(\n",
      "C:\\Users\\juan esteban\\anaconda3\\Lib\\site-packages\\sklearn\\linear_model\\_logistic.py:1247: FutureWarning: 'multi_class' was deprecated in version 1.5 and will be removed in 1.7. From then on, it will always use 'multinomial'. Leave it to its default value to avoid this warning.\n",
      "  warnings.warn(\n",
      "C:\\Users\\juan esteban\\anaconda3\\Lib\\site-packages\\sklearn\\linear_model\\_logistic.py:1247: FutureWarning: 'multi_class' was deprecated in version 1.5 and will be removed in 1.7. From then on, it will always use 'multinomial'. Leave it to its default value to avoid this warning.\n",
      "  warnings.warn(\n",
      "C:\\Users\\juan esteban\\anaconda3\\Lib\\site-packages\\sklearn\\linear_model\\_logistic.py:1247: FutureWarning: 'multi_class' was deprecated in version 1.5 and will be removed in 1.7. From then on, it will always use 'multinomial'. Leave it to its default value to avoid this warning.\n",
      "  warnings.warn(\n",
      "C:\\Users\\juan esteban\\anaconda3\\Lib\\site-packages\\sklearn\\linear_model\\_logistic.py:1247: FutureWarning: 'multi_class' was deprecated in version 1.5 and will be removed in 1.7. From then on, it will always use 'multinomial'. Leave it to its default value to avoid this warning.\n",
      "  warnings.warn(\n",
      "C:\\Users\\juan esteban\\anaconda3\\Lib\\site-packages\\sklearn\\linear_model\\_logistic.py:1247: FutureWarning: 'multi_class' was deprecated in version 1.5 and will be removed in 1.7. From then on, it will always use 'multinomial'. Leave it to its default value to avoid this warning.\n",
      "  warnings.warn(\n",
      "C:\\Users\\juan esteban\\anaconda3\\Lib\\site-packages\\sklearn\\linear_model\\_logistic.py:1247: FutureWarning: 'multi_class' was deprecated in version 1.5 and will be removed in 1.7. From then on, it will always use 'multinomial'. Leave it to its default value to avoid this warning.\n",
      "  warnings.warn(\n",
      "C:\\Users\\juan esteban\\anaconda3\\Lib\\site-packages\\sklearn\\linear_model\\_logistic.py:1247: FutureWarning: 'multi_class' was deprecated in version 1.5 and will be removed in 1.7. From then on, it will always use 'multinomial'. Leave it to its default value to avoid this warning.\n",
      "  warnings.warn(\n",
      "C:\\Users\\juan esteban\\anaconda3\\Lib\\site-packages\\sklearn\\linear_model\\_logistic.py:1247: FutureWarning: 'multi_class' was deprecated in version 1.5 and will be removed in 1.7. From then on, it will always use 'multinomial'. Leave it to its default value to avoid this warning.\n",
      "  warnings.warn(\n",
      "C:\\Users\\juan esteban\\anaconda3\\Lib\\site-packages\\sklearn\\linear_model\\_logistic.py:1247: FutureWarning: 'multi_class' was deprecated in version 1.5 and will be removed in 1.7. From then on, it will always use 'multinomial'. Leave it to its default value to avoid this warning.\n",
      "  warnings.warn(\n",
      "C:\\Users\\juan esteban\\anaconda3\\Lib\\site-packages\\sklearn\\linear_model\\_logistic.py:1247: FutureWarning: 'multi_class' was deprecated in version 1.5 and will be removed in 1.7. From then on, it will always use 'multinomial'. Leave it to its default value to avoid this warning.\n",
      "  warnings.warn(\n",
      "C:\\Users\\juan esteban\\anaconda3\\Lib\\site-packages\\sklearn\\linear_model\\_logistic.py:1247: FutureWarning: 'multi_class' was deprecated in version 1.5 and will be removed in 1.7. From then on, it will always use 'multinomial'. Leave it to its default value to avoid this warning.\n",
      "  warnings.warn(\n"
     ]
    },
    {
     "data": {
      "text/html": [
       "<div>\n",
       "<style scoped>\n",
       "    .dataframe tbody tr th:only-of-type {\n",
       "        vertical-align: middle;\n",
       "    }\n",
       "\n",
       "    .dataframe tbody tr th {\n",
       "        vertical-align: top;\n",
       "    }\n",
       "\n",
       "    .dataframe thead th {\n",
       "        text-align: right;\n",
       "    }\n",
       "</style>\n",
       "<table border=\"1\" class=\"dataframe\">\n",
       "  <thead>\n",
       "    <tr style=\"text-align: right;\">\n",
       "      <th></th>\n",
       "      <th>model</th>\n",
       "      <th>best_score</th>\n",
       "      <th>best_params</th>\n",
       "    </tr>\n",
       "  </thead>\n",
       "  <tbody>\n",
       "    <tr>\n",
       "      <th>0</th>\n",
       "      <td>svm</td>\n",
       "      <td>0.776667</td>\n",
       "      <td>{'svc__C': 1, 'svc__kernel': 'linear'}</td>\n",
       "    </tr>\n",
       "    <tr>\n",
       "      <th>1</th>\n",
       "      <td>random_forest</td>\n",
       "      <td>0.496190</td>\n",
       "      <td>{'randomforestclassifier__n_estimators': 10}</td>\n",
       "    </tr>\n",
       "    <tr>\n",
       "      <th>2</th>\n",
       "      <td>logistic_regression</td>\n",
       "      <td>0.773810</td>\n",
       "      <td>{'logisticregression__C': 5}</td>\n",
       "    </tr>\n",
       "  </tbody>\n",
       "</table>\n",
       "</div>"
      ],
      "text/plain": [
       "                 model  best_score  \\\n",
       "0                  svm    0.776667   \n",
       "1        random_forest    0.496190   \n",
       "2  logistic_regression    0.773810   \n",
       "\n",
       "                                    best_params  \n",
       "0        {'svc__C': 1, 'svc__kernel': 'linear'}  \n",
       "1  {'randomforestclassifier__n_estimators': 10}  \n",
       "2                  {'logisticregression__C': 5}  "
      ]
     },
     "execution_count": 58,
     "metadata": {},
     "output_type": "execute_result"
    }
   ],
   "source": [
    "scores = []\n",
    "best_estimators = {}\n",
    "import pandas as pd\n",
    "for algo, mp in model_params.items():\n",
    "    pipe = make_pipeline(StandardScaler(), mp['model'])\n",
    "    clf =  GridSearchCV(pipe, mp['params'], cv=5, return_train_score=False)\n",
    "    clf.fit(X_train, y_train)\n",
    "    scores.append({\n",
    "        'model': algo,\n",
    "        'best_score': clf.best_score_,\n",
    "        'best_params': clf.best_params_\n",
    "    })\n",
    "    best_estimators[algo] = clf.best_estimator_\n",
    "    \n",
    "df = pd.DataFrame(scores,columns=['model','best_score','best_params'])\n",
    "df"
   ]
  },
  {
   "cell_type": "code",
   "execution_count": 59,
   "id": "ea6f8351-af3b-452f-b517-8895127ae0b7",
   "metadata": {},
   "outputs": [
    {
     "data": {
      "text/plain": [
       "{'svm': Pipeline(steps=[('standardscaler', StandardScaler()),\n",
       "                 ('svc',\n",
       "                  SVC(C=1, gamma='auto', kernel='linear', probability=True))]),\n",
       " 'random_forest': Pipeline(steps=[('standardscaler', StandardScaler()),\n",
       "                 ('randomforestclassifier',\n",
       "                  RandomForestClassifier(n_estimators=10))]),\n",
       " 'logistic_regression': Pipeline(steps=[('standardscaler', StandardScaler()),\n",
       "                 ('logisticregression',\n",
       "                  LogisticRegression(C=5, multi_class='auto',\n",
       "                                     solver='liblinear'))])}"
      ]
     },
     "execution_count": 59,
     "metadata": {},
     "output_type": "execute_result"
    }
   ],
   "source": [
    "best_estimators"
   ]
  },
  {
   "cell_type": "code",
   "execution_count": 60,
   "id": "63c3953f-3e16-4f1f-baa5-0ba56c36352f",
   "metadata": {},
   "outputs": [
    {
     "data": {
      "text/plain": [
       "0.8285714285714286"
      ]
     },
     "execution_count": 60,
     "metadata": {},
     "output_type": "execute_result"
    }
   ],
   "source": [
    "best_estimators['svm'].score(X_test,y_test)"
   ]
  },
  {
   "cell_type": "code",
   "execution_count": 61,
   "id": "5f0bed17-049e-49bd-89c3-25529dfa6136",
   "metadata": {},
   "outputs": [
    {
     "data": {
      "text/plain": [
       "0.6"
      ]
     },
     "execution_count": 61,
     "metadata": {},
     "output_type": "execute_result"
    }
   ],
   "source": [
    "best_estimators['random_forest'].score(X_test,y_test)"
   ]
  },
  {
   "cell_type": "code",
   "execution_count": 62,
   "id": "5e2567a3-6b5a-4f09-9de7-ca7d4d398602",
   "metadata": {},
   "outputs": [
    {
     "data": {
      "text/plain": [
       "0.8571428571428571"
      ]
     },
     "execution_count": 62,
     "metadata": {},
     "output_type": "execute_result"
    }
   ],
   "source": [
    "best_estimators['logistic_regression'].score(X_test,y_test)"
   ]
  },
  {
   "cell_type": "code",
   "execution_count": 63,
   "id": "9f16ccb6-7d37-4a78-a03b-f32585d84085",
   "metadata": {},
   "outputs": [],
   "source": [
    "best_clf = best_estimators['svm']"
   ]
  },
  {
   "cell_type": "code",
   "execution_count": 90,
   "id": "1e362432-8d0c-45e3-b1f7-dd4cf2f9ae7b",
   "metadata": {},
   "outputs": [
    {
     "data": {
      "text/plain": [
       "array([[9, 0, 0, 1, 1],\n",
       "       [1, 5, 0, 1, 0],\n",
       "       [0, 0, 4, 1, 0],\n",
       "       [0, 1, 0, 7, 0],\n",
       "       [0, 0, 0, 0, 4]], dtype=int64)"
      ]
     },
     "execution_count": 90,
     "metadata": {},
     "output_type": "execute_result"
    }
   ],
   "source": [
    "from sklearn.metrics import confusion_matrix\n",
    "cm = confusion_matrix(y_test, best_clf.predict(X_test))\n",
    "cm"
   ]
  },
  {
   "cell_type": "code",
   "execution_count": 94,
   "id": "f2a2a777-045f-4b20-935c-d8e3f92ec7be",
   "metadata": {},
   "outputs": [
    {
     "name": "stdout",
     "output_type": "stream",
     "text": [
      "Collecting seaborn==0.12.2\n",
      "  Downloading seaborn-0.12.2-py3-none-any.whl.metadata (5.4 kB)\n",
      "Requirement already satisfied: numpy!=1.24.0,>=1.17 in c:\\users\\juan esteban\\anaconda3\\lib\\site-packages (from seaborn==0.12.2) (1.26.4)\n",
      "Requirement already satisfied: pandas>=0.25 in c:\\users\\juan esteban\\anaconda3\\lib\\site-packages (from seaborn==0.12.2) (2.1.4)\n",
      "Collecting matplotlib!=3.6.1,>=3.1 (from seaborn==0.12.2)\n",
      "  Using cached matplotlib-3.10.1-cp311-cp311-win_amd64.whl.metadata (11 kB)\n",
      "Requirement already satisfied: contourpy>=1.0.1 in c:\\users\\juan esteban\\anaconda3\\lib\\site-packages (from matplotlib!=3.6.1,>=3.1->seaborn==0.12.2) (1.2.0)\n",
      "Requirement already satisfied: cycler>=0.10 in c:\\users\\juan esteban\\anaconda3\\lib\\site-packages (from matplotlib!=3.6.1,>=3.1->seaborn==0.12.2) (0.11.0)\n",
      "Requirement already satisfied: fonttools>=4.22.0 in c:\\users\\juan esteban\\anaconda3\\lib\\site-packages (from matplotlib!=3.6.1,>=3.1->seaborn==0.12.2) (4.25.0)\n",
      "Requirement already satisfied: kiwisolver>=1.3.1 in c:\\users\\juan esteban\\anaconda3\\lib\\site-packages (from matplotlib!=3.6.1,>=3.1->seaborn==0.12.2) (1.4.4)\n",
      "Requirement already satisfied: packaging>=20.0 in c:\\users\\juan esteban\\anaconda3\\lib\\site-packages (from matplotlib!=3.6.1,>=3.1->seaborn==0.12.2) (23.1)\n",
      "Requirement already satisfied: pillow>=8 in c:\\users\\juan esteban\\anaconda3\\lib\\site-packages (from matplotlib!=3.6.1,>=3.1->seaborn==0.12.2) (10.2.0)\n",
      "Requirement already satisfied: pyparsing>=2.3.1 in c:\\users\\juan esteban\\anaconda3\\lib\\site-packages (from matplotlib!=3.6.1,>=3.1->seaborn==0.12.2) (3.0.9)\n",
      "Requirement already satisfied: python-dateutil>=2.7 in c:\\users\\juan esteban\\anaconda3\\lib\\site-packages (from matplotlib!=3.6.1,>=3.1->seaborn==0.12.2) (2.8.2)\n",
      "Requirement already satisfied: pytz>=2020.1 in c:\\users\\juan esteban\\anaconda3\\lib\\site-packages (from pandas>=0.25->seaborn==0.12.2) (2023.3.post1)\n",
      "Requirement already satisfied: tzdata>=2022.1 in c:\\users\\juan esteban\\anaconda3\\lib\\site-packages (from pandas>=0.25->seaborn==0.12.2) (2023.3)\n",
      "Requirement already satisfied: six>=1.5 in c:\\users\\juan esteban\\anaconda3\\lib\\site-packages (from python-dateutil>=2.7->matplotlib!=3.6.1,>=3.1->seaborn==0.12.2) (1.16.0)\n",
      "Downloading seaborn-0.12.2-py3-none-any.whl (293 kB)\n",
      "   ---------------------------------------- 0.0/293.3 kB ? eta -:--:--\n",
      "   - -------------------------------------- 10.2/293.3 kB ? eta -:--:--\n",
      "   - -------------------------------------- 10.2/293.3 kB ? eta -:--:--\n",
      "   -- ------------------------------------ 20.5/293.3 kB 165.2 kB/s eta 0:00:02\n",
      "   ---- ---------------------------------- 30.7/293.3 kB 163.8 kB/s eta 0:00:02\n",
      "   ---- ---------------------------------- 30.7/293.3 kB 163.8 kB/s eta 0:00:02\n",
      "   ----- --------------------------------- 41.0/293.3 kB 151.3 kB/s eta 0:00:02\n",
      "   --------- ----------------------------- 71.7/293.3 kB 218.6 kB/s eta 0:00:02\n",
      "   ------------- ------------------------ 102.4/293.3 kB 281.0 kB/s eta 0:00:01\n",
      "   --------------- ---------------------- 122.9/293.3 kB 313.8 kB/s eta 0:00:01\n",
      "   ------------------- ------------------ 153.6/293.3 kB 339.7 kB/s eta 0:00:01\n",
      "   -------------------------- ----------- 204.8/293.3 kB 415.7 kB/s eta 0:00:01\n",
      "   ------------------------------ ------- 235.5/293.3 kB 437.4 kB/s eta 0:00:01\n",
      "   --------------------------------- ---- 256.0/293.3 kB 449.3 kB/s eta 0:00:01\n",
      "   -------------------------------------  286.7/293.3 kB 466.2 kB/s eta 0:00:01\n",
      "   -------------------------------------- 293.3/293.3 kB 452.9 kB/s eta 0:00:00\n",
      "Using cached matplotlib-3.10.1-cp311-cp311-win_amd64.whl (8.1 MB)\n",
      "Installing collected packages: matplotlib, seaborn\n"
     ]
    },
    {
     "name": "stderr",
     "output_type": "stream",
     "text": [
      "WARNING: Ignoring invalid distribution ~atplotlib (C:\\Users\\juan esteban\\anaconda3\\Lib\\site-packages)\n",
      "WARNING: Ignoring invalid distribution ~atplotlib (C:\\Users\\juan esteban\\anaconda3\\Lib\\site-packages)\n",
      "ERROR: Could not install packages due to an OSError: [WinError 5] Acceso denegado: 'C:\\\\Users\\\\juan esteban\\\\anaconda3\\\\Lib\\\\site-packages\\\\matplotlib\\\\backends\\\\_backend_agg.cp311-win_amd64.pyd'\n",
      "Consider using the `--user` option or check the permissions.\n",
      "\n"
     ]
    }
   ],
   "source": [
    "!pip install seaborn==0.12.2"
   ]
  },
  {
   "cell_type": "code",
   "execution_count": 96,
   "id": "2d02d6af-967e-4cae-9e5a-7528debaee60",
   "metadata": {},
   "outputs": [
    {
     "data": {
      "text/plain": [
       "'0.8.1'"
      ]
     },
     "execution_count": 96,
     "metadata": {},
     "output_type": "execute_result"
    }
   ],
   "source": [
    "sns.__version__"
   ]
  },
  {
   "cell_type": "code",
   "execution_count": 95,
   "id": "91763b5c-56ca-44bd-9df1-823047ddc3cc",
   "metadata": {},
   "outputs": [
    {
     "ename": "AttributeError",
     "evalue": "module 'numpy' has no attribute 'bool'.\n`np.bool` was a deprecated alias for the builtin `bool`. To avoid this error in existing code, use `bool` by itself. Doing this will not modify any behavior and is safe. If you specifically wanted the numpy scalar type, use `np.bool_` here.\nThe aliases was originally deprecated in NumPy 1.20; for more details and guidance see the original release note at:\n    https://numpy.org/devdocs/release/1.20.0-notes.html#deprecations",
     "output_type": "error",
     "traceback": [
      "\u001b[1;31m---------------------------------------------------------------------------\u001b[0m",
      "\u001b[1;31mAttributeError\u001b[0m                            Traceback (most recent call last)",
      "Cell \u001b[1;32mIn[95], line 2\u001b[0m\n\u001b[0;32m      1\u001b[0m \u001b[38;5;28;01mimport\u001b[39;00m \u001b[38;5;21;01mseaborn\u001b[39;00m \u001b[38;5;28;01mas\u001b[39;00m \u001b[38;5;21;01msns\u001b[39;00m\n\u001b[1;32m----> 2\u001b[0m sns\u001b[38;5;241m.\u001b[39mheatmap(df, annot\u001b[38;5;241m=\u001b[39m\u001b[38;5;28;01mTrue\u001b[39;00m)\n\u001b[0;32m      3\u001b[0m plt\u001b[38;5;241m.\u001b[39mshow()\n",
      "File \u001b[1;32m~\\anaconda3\\Lib\\site-packages\\seaborn\\matrix.py:515\u001b[0m, in \u001b[0;36mheatmap\u001b[1;34m(data, vmin, vmax, cmap, center, robust, annot, fmt, annot_kws, linewidths, linecolor, cbar, cbar_kws, cbar_ax, square, xticklabels, yticklabels, mask, ax, **kwargs)\u001b[0m\n\u001b[0;32m    338\u001b[0m \u001b[38;5;250m\u001b[39m\u001b[38;5;124;03m\"\"\"Plot rectangular data as a color-encoded matrix.\u001b[39;00m\n\u001b[0;32m    339\u001b[0m \n\u001b[0;32m    340\u001b[0m \u001b[38;5;124;03mThis is an Axes-level function and will draw the heatmap into the\u001b[39;00m\n\u001b[1;32m   (...)\u001b[0m\n\u001b[0;32m    512\u001b[0m \n\u001b[0;32m    513\u001b[0m \u001b[38;5;124;03m\"\"\"\u001b[39;00m\n\u001b[0;32m    514\u001b[0m \u001b[38;5;66;03m# Initialize the plotter object\u001b[39;00m\n\u001b[1;32m--> 515\u001b[0m plotter \u001b[38;5;241m=\u001b[39m _HeatMapper(data, vmin, vmax, cmap, center, robust, annot, fmt,\n\u001b[0;32m    516\u001b[0m                       annot_kws, cbar, cbar_kws, xticklabels,\n\u001b[0;32m    517\u001b[0m                       yticklabels, mask)\n\u001b[0;32m    519\u001b[0m \u001b[38;5;66;03m# Add the pcolormesh kwargs here\u001b[39;00m\n\u001b[0;32m    520\u001b[0m kwargs[\u001b[38;5;124m\"\u001b[39m\u001b[38;5;124mlinewidths\u001b[39m\u001b[38;5;124m\"\u001b[39m] \u001b[38;5;241m=\u001b[39m linewidths\n",
      "File \u001b[1;32m~\\anaconda3\\Lib\\site-packages\\seaborn\\matrix.py:114\u001b[0m, in \u001b[0;36m_HeatMapper.__init__\u001b[1;34m(self, data, vmin, vmax, cmap, center, robust, annot, fmt, annot_kws, cbar, cbar_kws, xticklabels, yticklabels, mask)\u001b[0m\n\u001b[0;32m    111\u001b[0m     data \u001b[38;5;241m=\u001b[39m pd\u001b[38;5;241m.\u001b[39mDataFrame(plot_data)\n\u001b[0;32m    113\u001b[0m \u001b[38;5;66;03m# Validate the mask and convet to DataFrame\u001b[39;00m\n\u001b[1;32m--> 114\u001b[0m mask \u001b[38;5;241m=\u001b[39m _matrix_mask(data, mask)\n\u001b[0;32m    116\u001b[0m plot_data \u001b[38;5;241m=\u001b[39m np\u001b[38;5;241m.\u001b[39mma\u001b[38;5;241m.\u001b[39mmasked_where(np\u001b[38;5;241m.\u001b[39masarray(mask), plot_data)\n\u001b[0;32m    118\u001b[0m \u001b[38;5;66;03m# Get good names for the rows and columns\u001b[39;00m\n",
      "File \u001b[1;32m~\\anaconda3\\Lib\\site-packages\\seaborn\\matrix.py:71\u001b[0m, in \u001b[0;36m_matrix_mask\u001b[1;34m(data, mask)\u001b[0m\n\u001b[0;32m     62\u001b[0m \u001b[38;5;250m\u001b[39m\u001b[38;5;124;03m\"\"\"Ensure that data and mask are compatabile and add missing values.\u001b[39;00m\n\u001b[0;32m     63\u001b[0m \n\u001b[0;32m     64\u001b[0m \u001b[38;5;124;03mValues will be plotted for cells where ``mask`` is ``False``.\u001b[39;00m\n\u001b[1;32m   (...)\u001b[0m\n\u001b[0;32m     68\u001b[0m \n\u001b[0;32m     69\u001b[0m \u001b[38;5;124;03m\"\"\"\u001b[39;00m\n\u001b[0;32m     70\u001b[0m \u001b[38;5;28;01mif\u001b[39;00m mask \u001b[38;5;129;01mis\u001b[39;00m \u001b[38;5;28;01mNone\u001b[39;00m:\n\u001b[1;32m---> 71\u001b[0m     mask \u001b[38;5;241m=\u001b[39m np\u001b[38;5;241m.\u001b[39mzeros(data\u001b[38;5;241m.\u001b[39mshape, np\u001b[38;5;241m.\u001b[39mbool)\n\u001b[0;32m     73\u001b[0m \u001b[38;5;28;01mif\u001b[39;00m \u001b[38;5;28misinstance\u001b[39m(mask, np\u001b[38;5;241m.\u001b[39mndarray):\n\u001b[0;32m     74\u001b[0m     \u001b[38;5;66;03m# For array masks, ensure that shape matches data then convert\u001b[39;00m\n\u001b[0;32m     75\u001b[0m     \u001b[38;5;28;01mif\u001b[39;00m mask\u001b[38;5;241m.\u001b[39mshape \u001b[38;5;241m!=\u001b[39m data\u001b[38;5;241m.\u001b[39mshape:\n",
      "File \u001b[1;32m~\\anaconda3\\Lib\\site-packages\\numpy\\__init__.py:324\u001b[0m, in \u001b[0;36m__getattr__\u001b[1;34m(attr)\u001b[0m\n\u001b[0;32m    319\u001b[0m     warnings\u001b[38;5;241m.\u001b[39mwarn(\n\u001b[0;32m    320\u001b[0m         \u001b[38;5;124mf\u001b[39m\u001b[38;5;124m\"\u001b[39m\u001b[38;5;124mIn the future `np.\u001b[39m\u001b[38;5;132;01m{\u001b[39;00mattr\u001b[38;5;132;01m}\u001b[39;00m\u001b[38;5;124m` will be defined as the \u001b[39m\u001b[38;5;124m\"\u001b[39m\n\u001b[0;32m    321\u001b[0m         \u001b[38;5;124m\"\u001b[39m\u001b[38;5;124mcorresponding NumPy scalar.\u001b[39m\u001b[38;5;124m\"\u001b[39m, \u001b[38;5;167;01mFutureWarning\u001b[39;00m, stacklevel\u001b[38;5;241m=\u001b[39m\u001b[38;5;241m2\u001b[39m)\n\u001b[0;32m    323\u001b[0m \u001b[38;5;28;01mif\u001b[39;00m attr \u001b[38;5;129;01min\u001b[39;00m __former_attrs__:\n\u001b[1;32m--> 324\u001b[0m     \u001b[38;5;28;01mraise\u001b[39;00m \u001b[38;5;167;01mAttributeError\u001b[39;00m(__former_attrs__[attr])\n\u001b[0;32m    326\u001b[0m \u001b[38;5;28;01mif\u001b[39;00m attr \u001b[38;5;241m==\u001b[39m \u001b[38;5;124m'\u001b[39m\u001b[38;5;124mtesting\u001b[39m\u001b[38;5;124m'\u001b[39m:\n\u001b[0;32m    327\u001b[0m     \u001b[38;5;28;01mimport\u001b[39;00m \u001b[38;5;21;01mnumpy\u001b[39;00m\u001b[38;5;21;01m.\u001b[39;00m\u001b[38;5;21;01mtesting\u001b[39;00m \u001b[38;5;28;01mas\u001b[39;00m \u001b[38;5;21;01mtesting\u001b[39;00m\n",
      "\u001b[1;31mAttributeError\u001b[0m: module 'numpy' has no attribute 'bool'.\n`np.bool` was a deprecated alias for the builtin `bool`. To avoid this error in existing code, use `bool` by itself. Doing this will not modify any behavior and is safe. If you specifically wanted the numpy scalar type, use `np.bool_` here.\nThe aliases was originally deprecated in NumPy 1.20; for more details and guidance see the original release note at:\n    https://numpy.org/devdocs/release/1.20.0-notes.html#deprecations"
     ]
    }
   ],
   "source": [
    "import seaborn as sns\n",
    "sns.heatmap(df, annot=True)\n",
    "plt.show()"
   ]
  },
  {
   "cell_type": "code",
   "execution_count": 68,
   "id": "bf046fb1-1827-4d15-8147-f28bb48e3258",
   "metadata": {},
   "outputs": [
    {
     "data": {
      "text/plain": [
       "{'Cristiano Ronaldo': 0,\n",
       " 'Erling Haaland': 1,\n",
       " 'Jude Bellingham': 2,\n",
       " 'Kylian Mbappe': 3,\n",
       " 'Leonel Messi': 4}"
      ]
     },
     "execution_count": 68,
     "metadata": {},
     "output_type": "execute_result"
    }
   ],
   "source": [
    "class_dict"
   ]
  },
  {
   "cell_type": "code",
   "execution_count": null,
   "id": "b632ea09-6b3b-48cf-8923-e43edacd6a21",
   "metadata": {},
   "outputs": [],
   "source": []
  }
 ],
 "metadata": {
  "kernelspec": {
   "display_name": "Python 3 (ipykernel)",
   "language": "python",
   "name": "python3"
  },
  "language_info": {
   "codemirror_mode": {
    "name": "ipython",
    "version": 3
   },
   "file_extension": ".py",
   "mimetype": "text/x-python",
   "name": "python",
   "nbconvert_exporter": "python",
   "pygments_lexer": "ipython3",
   "version": "3.11.7"
  }
 },
 "nbformat": 4,
 "nbformat_minor": 5
}
